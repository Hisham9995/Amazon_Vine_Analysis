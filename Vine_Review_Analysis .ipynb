{
  "nbformat": 4,
  "nbformat_minor": 0,
  "metadata": {
    "colab": {
      "name": "Vine_Review_Analysis.ipynb",
      "provenance": [],
      "collapsed_sections": []
    },
    "kernelspec": {
      "name": "python3",
      "display_name": "Python 3"
    },
    "language_info": {
      "name": "python"
    }
  },
  "cells": [
    {
      "cell_type": "code",
      "metadata": {
        "colab": {
          "base_uri": "https://localhost:8080/"
        },
        "id": "MDB-o0uUkAnl",
        "outputId": "ac7467d8-8b0d-4dfe-c9ea-48f79a66d955"
      },
      "source": [
        "import os\n",
        "# Find the latest version of spark 3.0  from http://www.apache.org/dist/spark/ and enter as the spark version\n",
        "# For example:\n",
        "# spark_version = 'spark-3.0.3'\n",
        "spark_version = 'spark-3.0.3'\n",
        "os.environ['SPARK_VERSION']=spark_version\n",
        "\n",
        "# Install Spark and Java\n",
        "!apt-get update\n",
        "!apt-get install openjdk-11-jdk-headless -qq > /dev/null\n",
        "!wget -q http://www.apache.org/dist/spark/$SPARK_VERSION/$SPARK_VERSION-bin-hadoop2.7.tgz\n",
        "!tar xf $SPARK_VERSION-bin-hadoop2.7.tgz\n",
        "!pip install -q findspark\n",
        "\n",
        "# Set Environment Variables\n",
        "os.environ[\"JAVA_HOME\"] = \"/usr/lib/jvm/java-11-openjdk-amd64\"\n",
        "os.environ[\"SPARK_HOME\"] = f\"/content/{spark_version}-bin-hadoop2.7\"\n",
        "\n",
        "# Start a SparkSession\n",
        "import findspark\n",
        "findspark.init()"
      ],
      "execution_count": 1,
      "outputs": [
        {
          "output_type": "stream",
          "text": [
            "Get:1 http://security.ubuntu.com/ubuntu bionic-security InRelease [88.7 kB]\n",
            "Get:2 https://cloud.r-project.org/bin/linux/ubuntu bionic-cran40/ InRelease [3,626 B]\n",
            "Ign:3 https://developer.download.nvidia.com/compute/cuda/repos/ubuntu1804/x86_64  InRelease\n",
            "Get:4 http://ppa.launchpad.net/c2d4u.team/c2d4u4.0+/ubuntu bionic InRelease [15.9 kB]\n",
            "Hit:5 http://archive.ubuntu.com/ubuntu bionic InRelease\n",
            "Ign:6 https://developer.download.nvidia.com/compute/machine-learning/repos/ubuntu1804/x86_64  InRelease\n",
            "Get:7 https://developer.download.nvidia.com/compute/cuda/repos/ubuntu1804/x86_64  Release [697 B]\n",
            "Hit:8 https://developer.download.nvidia.com/compute/machine-learning/repos/ubuntu1804/x86_64  Release\n",
            "Get:9 https://developer.download.nvidia.com/compute/cuda/repos/ubuntu1804/x86_64  Release.gpg [836 B]\n",
            "Get:10 http://archive.ubuntu.com/ubuntu bionic-updates InRelease [88.7 kB]\n",
            "Hit:11 http://ppa.launchpad.net/cran/libgit2/ubuntu bionic InRelease\n",
            "Get:12 http://archive.ubuntu.com/ubuntu bionic-backports InRelease [74.6 kB]\n",
            "Get:13 http://security.ubuntu.com/ubuntu bionic-security/multiverse amd64 Packages [26.7 kB]\n",
            "Get:14 http://ppa.launchpad.net/deadsnakes/ppa/ubuntu bionic InRelease [15.9 kB]\n",
            "Get:15 http://security.ubuntu.com/ubuntu bionic-security/main amd64 Packages [2,263 kB]\n",
            "Get:16 http://security.ubuntu.com/ubuntu bionic-security/restricted amd64 Packages [510 kB]\n",
            "Get:17 http://security.ubuntu.com/ubuntu bionic-security/universe amd64 Packages [1,421 kB]\n",
            "Get:18 http://ppa.launchpad.net/graphics-drivers/ppa/ubuntu bionic InRelease [21.3 kB]\n",
            "Get:19 https://cloud.r-project.org/bin/linux/ubuntu bionic-cran40/ Packages [66.2 kB]\n",
            "Get:21 http://ppa.launchpad.net/c2d4u.team/c2d4u4.0+/ubuntu bionic/main Sources [1,790 kB]\n",
            "Ign:22 https://developer.download.nvidia.com/compute/cuda/repos/ubuntu1804/x86_64  Packages\n",
            "Get:22 https://developer.download.nvidia.com/compute/cuda/repos/ubuntu1804/x86_64  Packages [695 kB]\n",
            "Get:23 http://ppa.launchpad.net/c2d4u.team/c2d4u4.0+/ubuntu bionic/main amd64 Packages [916 kB]\n",
            "Get:24 http://archive.ubuntu.com/ubuntu bionic-updates/restricted amd64 Packages [544 kB]\n",
            "Get:25 http://archive.ubuntu.com/ubuntu bionic-updates/universe amd64 Packages [2,196 kB]\n",
            "Get:26 http://archive.ubuntu.com/ubuntu bionic-updates/multiverse amd64 Packages [39.4 kB]\n",
            "Get:27 http://archive.ubuntu.com/ubuntu bionic-updates/main amd64 Packages [2,699 kB]\n",
            "Get:28 http://ppa.launchpad.net/deadsnakes/ppa/ubuntu bionic/main amd64 Packages [40.9 kB]\n",
            "Get:29 http://ppa.launchpad.net/graphics-drivers/ppa/ubuntu bionic/main amd64 Packages [44.1 kB]\n",
            "Fetched 13.6 MB in 6s (2,446 kB/s)\n",
            "Reading package lists... Done\n"
          ],
          "name": "stdout"
        }
      ]
    },
    {
      "cell_type": "code",
      "metadata": {
        "id": "OFy45Ns1qE9i"
      },
      "source": [
        "from pyspark.sql import SparkSession\n",
        "spark = SparkSession.builder.appName(\"BigData-Challenge\").getOrCreate()"
      ],
      "execution_count": 3,
      "outputs": []
    },
    {
      "cell_type": "code",
      "metadata": {
        "colab": {
          "base_uri": "https://localhost:8080/"
        },
        "id": "mCdwrZAsrCJK",
        "outputId": "1287558f-eb36-4bf7-e949-863a3a02b406"
      },
      "source": [
        "\n",
        "from pyspark import SparkFiles\n",
        "url = \"https://s3.amazonaws.com/amazon-reviews-pds/tsv/amazon_reviews_us_PC_v1_00.tsv.gz\"\n",
        "spark.sparkContext.addFile(url)\n",
        "df = spark.read.option(\"encoding\", \"UTF-8\").csv(SparkFiles.get(\"amazon_reviews_us_PC_v1_00.tsv.gz\"), sep=\"\\t\", header=True, inferSchema=True)\n",
        "df.show()"
      ],
      "execution_count": 15,
      "outputs": [
        {
          "output_type": "stream",
          "text": [
            "+-----------+-----------+--------------+----------+--------------+--------------------+----------------+-----------+-------------+-----------+----+-----------------+--------------------+--------------------+-----------+\n",
            "|marketplace|customer_id|     review_id|product_id|product_parent|       product_title|product_category|star_rating|helpful_votes|total_votes|vine|verified_purchase|     review_headline|         review_body|review_date|\n",
            "+-----------+-----------+--------------+----------+--------------+--------------------+----------------+-----------+-------------+-----------+----+-----------------+--------------------+--------------------+-----------+\n",
            "|         US|   22873041|R3ARRMDEGED8RD|B00KJWQIIC|     335625766|Plemo 14-Inch Lap...|              PC|          5|            0|          0|   N|                Y|Pleasantly surprised|I was very surpri...| 2015-08-31|\n",
            "|         US|   30088427| RQ28TSA020Y6J|B013ALA9LA|     671157305|TP-Link OnHub AC1...|              PC|          5|           24|         31|   N|                N|OnHub is a pretty...|I am a Google emp...| 2015-08-31|\n",
            "|         US|   20329786| RUXJRZCT6953M|B00PML2GQ8|     982036237|AmazonBasics USB ...|              PC|          1|            2|          2|   N|                N|None of them work...|Bought cables in ...| 2015-08-31|\n",
            "|         US|   14215710| R7EO0UO6BPB71|B001NS0OZ4|     576587596|Transcend P8 15-i...|              PC|          1|            0|          0|   N|                Y|just keep searching.|nope, cheap and slow| 2015-08-31|\n",
            "|         US|   38264512|R39NJY2YJ1JFSV|B00AQMTND2|     964759214|Aleratec SATA Dat...|              PC|          5|            0|          0|   N|                Y|          Five Stars|Excellent! Great ...| 2015-08-31|\n",
            "|         US|   30548466|R31SR7REWNX7CF|B00KX4TORI|     170101802|Kingston Digital ...|              PC|          5|            0|          0|   N|                Y|Good quality, wor...|Good quality,work...| 2015-08-31|\n",
            "|         US|     589298| RVBP8I1R0CTZ8|B00P17WEMY|     206124740|White 9 Inch Unlo...|              PC|          3|            1|          2|   N|                Y|in fact this is t...|This demn tablet ...| 2015-08-31|\n",
            "|         US|   49329488|R1QF6RS1PDLU18|B00TR05L9Y|     778403103|Lenovo TAB2 A10 -...|              PC|          4|            1|          1|   N|                Y|                Good|I am not sure I d...| 2015-08-31|\n",
            "|         US|   50728290|R23AICGEDAJQL1|B0098Y77OG|     177098042|                Acer|              PC|          1|            0|          0|   N|                Y|You get what you ...|After exactly 45 ...| 2015-08-31|\n",
            "|         US|   37802374|R2EY3N4K9W19UP|B00IFYEYXC|     602496520|AzureWave Broadco...|              PC|          5|            3|          4|   N|                Y|Great for Windows...|Replaced my Intel...| 2015-08-31|\n",
            "|         US|   52027882| RC9AW4HKJ016M|B0091ITP0S|     977217357|HDE Rotating iPad...|              PC|          1|            0|          0|   N|                Y|            One Star|IT HAS ALREADY CR...| 2015-08-31|\n",
            "|         US|   41770239|R2ALWJE9N6ZBXD|B008I21EA2|     295632907|Linksys AC1750 Wi...|              PC|          1|            0|          0|   N|                N|   Very Disappointed|Very disappointed...| 2015-08-31|\n",
            "|         US|   42560427|R2G5FPA4OX37GV|B00MRB7SBO|     922591915|iPad Pro 9.7, iPa...|              PC|          5|            1|          1|   N|                Y|          Five Stars|Works well. I use...| 2015-08-31|\n",
            "|         US|   46345923|R1IKTSEVXSIMOD|B00LLER2CS|     997551273|SanDisk 16GB CZ43...|              PC|          5|            0|          0|   N|                Y|The encryption so...|The encryption so...| 2015-08-31|\n",
            "|         US|   41751192|R2YA6G6SRFEWF6|B00B0CQCCC|     937999925|TRENDnet Wireless...|              PC|          1|            0|          1|   N|                Y|Didn't last 2 years.|I have owned this...| 2015-08-31|\n",
            "|         US|   21176481| RS9H1N9I3Z1IA|B00GU8W5AE|      13865167|Redragon M901 PER...|              PC|          5|            0|          0|   N|                Y|Awesome gaming mouse|My first gaming m...| 2015-08-31|\n",
            "|         US|   10674058| RKKLBI76VTDNT|B00XHMXJQ0|     967483469|Mudder MHL Adapte...|              PC|          1|            0|          0|   N|                Y|            One Star|I cannot get it t...| 2015-08-31|\n",
            "|         US|   43341796|R2NJ3WFUS4E5G6|B00YGJJQ6U|     986548413|Fintie iPad Air 2...|              PC|          4|            0|          0|   N|                Y|Great choices of ...|Love that Finite ...| 2015-08-31|\n",
            "|         US|   13232866|R21PTQNLGCBN0I|B00XMN20Y6|     873354048|Fintie iPad 2/3/4...|              PC|          5|            0|          0|   N|                Y|          Five Stars|Nice color, I lov...| 2015-08-31|\n",
            "|         US|   29333557|R3G4RT3EQ9RSY7|B00MA40W9I|     535866197|Egoway® New Lapto...|              PC|          1|            0|          0|   N|                Y|Totally wasted $6...|Totally wasted $6...| 2015-08-31|\n",
            "+-----------+-----------+--------------+----------+--------------+--------------------+----------------+-----------+-------------+-----------+----+-----------------+--------------------+--------------------+-----------+\n",
            "only showing top 20 rows\n",
            "\n"
          ],
          "name": "stdout"
        }
      ]
    },
    {
      "cell_type": "code",
      "metadata": {
        "id": "nT8GZjd9BMbm"
      },
      "source": [
        "#filter the dataset for total_votes being greater than or equal to 20\n",
        "vine_df = df.select([\"review_id\",\"star_rating\",\"helpful_votes\",\"total_votes\",\"vine\",\"verified_purchase\"])\n",
        "vote_count = df.filter(\"total_votes >= 20\")"
      ],
      "execution_count": 24,
      "outputs": []
    },
    {
      "cell_type": "code",
      "metadata": {
        "colab": {
          "base_uri": "https://localhost:8080/"
        },
        "id": "9HvISVqpBZSW",
        "outputId": "6a8b810e-0d60-42d3-fdbc-12fee8d88c7b"
      },
      "source": [
        "#create a new DataFrame or table to retrieve all the rows where the number of helpful_votes divided by total_votes is equal to or greater than 50%.\n",
        "new_table = vote_count.filter(vote_count[\"helpful_votes\"]/vote_count[\"total_votes\"]>=0.5)\n",
        "new_table.show()"
      ],
      "execution_count": 25,
      "outputs": [
        {
          "output_type": "stream",
          "text": [
            "+-----------+-----------+--------------+----------+--------------+--------------------+----------------+-----------+-------------+-----------+----+-----------------+--------------------+--------------------+-----------+\n",
            "|marketplace|customer_id|     review_id|product_id|product_parent|       product_title|product_category|star_rating|helpful_votes|total_votes|vine|verified_purchase|     review_headline|         review_body|review_date|\n",
            "+-----------+-----------+--------------+----------+--------------+--------------------+----------------+-----------+-------------+-----------+----+-----------------+--------------------+--------------------+-----------+\n",
            "|         US|   30088427| RQ28TSA020Y6J|B013ALA9LA|     671157305|TP-Link OnHub AC1...|              PC|          5|           24|         31|   N|                N|OnHub is a pretty...|I am a Google emp...| 2015-08-31|\n",
            "|         US|   33168772|R25D83AEJRXUWO|B011KFQASE|     179405799|Asus F555LA-AB31 ...|              PC|          4|           18|         21|   N|                Y|Nice Solid 1080p ...|A nice solid lapt...| 2015-08-31|\n",
            "|         US|   37757447|R1S9O5CCTD61ZD|B00QR2CY6S|     819547817|Fusion4K High Spe...|              PC|          1|           45|         71|   N|                N|Same performance ...|I've never seen s...| 2015-08-31|\n",
            "|         US|   29916900|R351KVE3VO78W9|B00WIX4JMC|     358854957|FIDO U2F Security...|              PC|          3|           36|         42|   N|                Y|1) It isn't sturd...|It works but ther...| 2015-08-31|\n",
            "|         US|    2054169| R4LANIHO6EXAH|B00XPXFW7U|     590055383|CaseBuy Soft Sili...|              PC|          4|           35|         35|   N|                Y|        Pretty good!|I just got my key...| 2015-08-31|\n",
            "|         US|   45557365|R3V26MZUOWAUA4|B00XKU47Y2|     242671524|Opolar Laptop Cooler|              PC|          3|           35|         45|   N|                Y|Fan does good job...|The fan itself wo...| 2015-08-31|\n",
            "|         US|   43049754|R38OLNY5GR1PW6|B00X2JQ8K2|     954779825|TAB A case, Samsu...|              PC|          5|           44|         44|   N|                Y|Stylish Case for ...|Love, Love, Love ...| 2015-08-31|\n",
            "|         US|   50454721|R2GK7RJNIAREIT|B008P54T1I|     857605204|Apple 45W MagSafe...|              PC|          1|           30|         32|   N|                Y|        Don't buy it|This power adapte...| 2015-08-31|\n",
            "|         US|   36507132|R2OWRP6FXXECMK|B00R45V3SW|     274617078|Seagate Backup Pl...|              PC|          1|           42|         44|   N|                Y|Bought 2 new driv...|[UPDATED Jan 21, ...| 2015-08-31|\n",
            "|         US|   42740308| ROR2FE6Y8EZYG|B00R92CEVU|     678269222|NETGEAR CM500 (16...|              PC|          5|           19|         22|   N|                Y|Lightning fast --...|Lightning fast --...| 2015-08-31|\n",
            "|         US|   28275625|R1UWNRDWUZR68D|B004D3QOPA|     504400007|Gigabit 1000BT De...|              PC|          3|           60|         60|   N|                Y|Good for a couple...|Ok.. I purchased ...| 2015-08-31|\n",
            "|         US|    7599429| RIJYX8PG45XOB|B00WHYSHF2|     768120866| Poin2 Chromebook 11|              PC|          5|           51|         52|   N|                Y|it brings really ...|My husband is a t...| 2015-08-31|\n",
            "|         US|   25506832|R24PUIWP0XB411|B013NH0IEE|     476320409|SZAC Micro SD Car...|              PC|          1|           27|         27|   N|                Y|Good luck getting...|Don't be fooled w...| 2015-08-31|\n",
            "|         US|   20457564| RBYFK3W84LW9F|B010SBAJDS|     904532960|Toshiba Satellite...|              PC|          2|           32|         37|   N|                Y|Not impressed. Di...|I purchased 4 of ...| 2015-08-31|\n",
            "|         US|   35314326| RT880ROJ1I4Z5|B00JFCD2R2|     158990248|HP 753960-B21 NVI...|              PC|          5|           22|         31|   N|                N|Rendering your wo...|Best graphics car...| 2015-08-31|\n",
            "|         US|   21407360|R2ICLUNZ6A5DXB|B00DVISMCG|     392617397|Crucial Ballistix...|              PC|          1|           16|         23|   N|                Y|Timing was differ...|Product descripti...| 2015-08-31|\n",
            "|         US|   47301751|R3H11HIP4SCL9V|B00UTV8OEE|     423270920|ASUS Transformer ...|              PC|          5|           31|         33|   N|                Y|This is a good cr...|This is a good cr...| 2015-08-31|\n",
            "|         US|   47378845| RPG85MPSR10JG|B00MA5U1FW|     908032034|ARRIS SURFboard D...|              PC|          1|           23|         26|   N|                Y|the service was w...|Apparently I know...| 2015-08-31|\n",
            "|         US|   42477503|R2UAVRDG3AUF3K|B013ALA9LA|     671157305|TP-Link OnHub AC1...|              PC|          5|           14|         21|   N|                N|OnHub delivers on...|Clean design. Fee...| 2015-08-31|\n",
            "|         US|   18283551|R2CEZU1K5CVLRL|B007GMPZ0A|      95631789|TP-LINK N900 2.4G...|              PC|          1|           17|         22|   N|                Y|This product does...|The short version...| 2015-08-31|\n",
            "+-----------+-----------+--------------+----------+--------------+--------------------+----------------+-----------+-------------+-----------+----+-----------------+--------------------+--------------------+-----------+\n",
            "only showing top 20 rows\n",
            "\n"
          ],
          "name": "stdout"
        }
      ]
    },
    {
      "cell_type": "code",
      "metadata": {
        "colab": {
          "base_uri": "https://localhost:8080/"
        },
        "id": "lzlFkXm5BoMu",
        "outputId": "f348460d-7dc2-4aa0-d804-0d1696c7ccd6"
      },
      "source": [
        "#reate a new DataFrame or table that retrieves all the rows where a review was written as part of the Vine program (paid), vine == 'Y'\n",
        "new_table.filter(new_table[\"vine\"] == \"Y\").show()"
      ],
      "execution_count": 26,
      "outputs": [
        {
          "output_type": "stream",
          "text": [
            "+-----------+-----------+--------------+----------+--------------+--------------------+----------------+-----------+-------------+-----------+----+-----------------+--------------------+--------------------+-----------+\n",
            "|marketplace|customer_id|     review_id|product_id|product_parent|       product_title|product_category|star_rating|helpful_votes|total_votes|vine|verified_purchase|     review_headline|         review_body|review_date|\n",
            "+-----------+-----------+--------------+----------+--------------+--------------------+----------------+-----------+-------------+-----------+----+-----------------+--------------------+--------------------+-----------+\n",
            "|         US|   52772260|R3J2DPYUH6453D|B010LHRFYU|     420599738|Wacom Intuos Art ...|              PC|          5|          136|        153|   Y|                N|Impression from a...|I never used a di...| 2015-08-31|\n",
            "|         US|   45515977|R25QTFLERWK6SJ|B010Q57T02|     958691879|SanDisk 128GB Ult...|              PC|          3|          852|        956|   Y|                N|Triple comparison...|I was recently of...| 2015-08-28|\n",
            "|         US|   51917998|R1BG71K9B61LI1|B00XJQASXG|     505901121|HP Pavilion 23-q0...|              PC|          4|           39|         39|   Y|                N|the AMD A8-7410 p...|This is an all-in...| 2015-08-25|\n",
            "|         US|   38521453| R8WGX426U56E0|B00VIM9VQ8|     182018494|AmazonBasics Roll...|              PC|          5|           19|         21|   Y|                N|Great Protective ...|I love this lapto...| 2015-08-24|\n",
            "|         US|   38901787| R614TCIDD36LE|B01065S79E|     268745989|Seagate Game Driv...|              PC|          4|          131|        147|   Y|                N|Xbox One can use ...|[Good]<br /><br /...| 2015-08-24|\n",
            "|         US|   52137927|R28X5K1OZBQSBK|B00ZD8R30Y|     159303287|Toshiba Satellite...|              PC|          5|           25|         28|   Y|                N|Excellent desktop...|This Toshiba Sate...| 2015-08-22|\n",
            "|         US|   52975306|R2CUDWKAUWGHIT|B00YQO6BI6|     757321624|Toshiba Satellite...|              PC|          5|           19|         24|   Y|                N|Overcoming the dr...|... of another \\\\...| 2015-08-19|\n",
            "|         US|   47703338| R886ADSI1HBU5|B00VWVZ0V0|     655721821|Dell DW316 Extern...|              PC|          5|           88|         97|   Y|                N|Great external dr...|This is a slick l...| 2015-08-19|\n",
            "|         US|   52464985|R3TTJTAND1CCSV|B00YY3X678|     114035524|ASUS C100PA-DB01 ...|              PC|          5|           21|         23|   Y|                N|I'm 100% Sold On ...|I can't remember ...| 2015-08-19|\n",
            "|         US|   50592803|R1W39WXYWNFJBG|B00VWVZ0V0|     655721821|Dell DW316 Extern...|              PC|          5|           32|         35|   Y|                N|Excellent Cross P...|Full disclosure: ...| 2015-08-18|\n",
            "|         US|   49376289|R18WUOSN0TQD9X|B00PC9HG0Q|      77752589|Dell Power Compan...|              PC|          4|           25|         26|   Y|                N|Good back-up opti...|Update 8/22/15:  ...| 2015-08-16|\n",
            "|         US|   52320949|R2UGZFCPGAI6OP|B00ZPL59LO|     235607317|Toshiba Satellite...|              PC|          5|           19|         21|   Y|                N|Great value, soli...|This is a solid e...| 2015-08-12|\n",
            "|         US|   45838866| R7Y17L4FLYYXN|B00XQXZM7O|     491922041|Dell Inspiron 17 ...|              PC|          4|           23|         30|   Y|                N|Core i3 17.3\" - s...|The Inspiron 17 5...| 2015-08-12|\n",
            "|         US|   32483321|R1YEAR1J3MEI3I|B00Z0UWWYC|     561160357|Logitech G920 Dri...|              PC|          2|          143|        159|   Y|                N|Solid if overpric...|The Logitech G29 ...| 2015-08-12|\n",
            "|         US|   49486523|R1FI3ZKOA0RMR9|B01065S79E|     268745989|Seagate Game Driv...|              PC|          5|          145|        164|   Y|                N|True \"plug and sa...|So I just receive...| 2015-08-11|\n",
            "|         US|   36406318| RFZQEATC76JDP|B00Z0UWWYC|     561160357|Logitech G920 Dri...|              PC|          3|           17|         22|   Y|                N|A solid product, ...|The Logitech G29 ...| 2015-08-11|\n",
            "|         US|   52978432|R1LDVLZ6TI5MSX|B010SBB27U|     202778598|Toshiba Satellite...|              PC|          3|           18|         27|   Y|                N|Definitely some p...|With the new Tosh...| 2015-08-11|\n",
            "|         US|   17957446|R3GNG9SISW41OZ|B00VWVZ0V0|     655721821|Dell DW316 Extern...|              PC|          5|          143|        153|   Y|                N|(UPDATED Dec 19, ...|Review Updated 19...| 2015-08-11|\n",
            "|         US|   21454753| RSDDNABYLRGA1|B00YR6BMS2|     300786811|ASUS K501LX 15.6 ...|              PC|          3|           60|         71|   Y|                N|Great except for ...|The ASUS K501LX-E...| 2015-08-10|\n",
            "|         US|   35731740|R2YKR6HFL47R8L|B01065S79E|     268745989|Seagate Game Driv...|              PC|          5|           26|         35|   Y|                N|Don't Delete Game...|The display showe...| 2015-08-10|\n",
            "+-----------+-----------+--------------+----------+--------------+--------------------+----------------+-----------+-------------+-----------+----+-----------------+--------------------+--------------------+-----------+\n",
            "only showing top 20 rows\n",
            "\n"
          ],
          "name": "stdout"
        }
      ]
    },
    {
      "cell_type": "code",
      "metadata": {
        "colab": {
          "base_uri": "https://localhost:8080/"
        },
        "id": "myAO3oZiBvZv",
        "outputId": "8d6d296b-04bf-4a72-f0fa-eeb76ca9d629"
      },
      "source": [
        "# Create unpaid vine DataFrame\n",
        "unpaid_df = df_2.filter(df_2.vine == 'N')\n",
        "unpaid_df.show()"
      ],
      "execution_count": 23,
      "outputs": [
        {
          "output_type": "stream",
          "text": [
            "+-----------+-----------+--------------+----------+--------------+--------------------+----------------+-----------+-------------+-----------+----+-----------------+--------------------+--------------------+-----------+\n",
            "|marketplace|customer_id|     review_id|product_id|product_parent|       product_title|product_category|star_rating|helpful_votes|total_votes|vine|verified_purchase|     review_headline|         review_body|review_date|\n",
            "+-----------+-----------+--------------+----------+--------------+--------------------+----------------+-----------+-------------+-----------+----+-----------------+--------------------+--------------------+-----------+\n",
            "|         US|   30088427| RQ28TSA020Y6J|B013ALA9LA|     671157305|TP-Link OnHub AC1...|              PC|          5|           24|         31|   N|                N|OnHub is a pretty...|I am a Google emp...| 2015-08-31|\n",
            "|         US|   33168772|R25D83AEJRXUWO|B011KFQASE|     179405799|Asus F555LA-AB31 ...|              PC|          4|           18|         21|   N|                Y|Nice Solid 1080p ...|A nice solid lapt...| 2015-08-31|\n",
            "|         US|   37757447|R1S9O5CCTD61ZD|B00QR2CY6S|     819547817|Fusion4K High Spe...|              PC|          1|           45|         71|   N|                N|Same performance ...|I've never seen s...| 2015-08-31|\n",
            "|         US|   29916900|R351KVE3VO78W9|B00WIX4JMC|     358854957|FIDO U2F Security...|              PC|          3|           36|         42|   N|                Y|1) It isn't sturd...|It works but ther...| 2015-08-31|\n",
            "|         US|    2054169| R4LANIHO6EXAH|B00XPXFW7U|     590055383|CaseBuy Soft Sili...|              PC|          4|           35|         35|   N|                Y|        Pretty good!|I just got my key...| 2015-08-31|\n",
            "|         US|   45557365|R3V26MZUOWAUA4|B00XKU47Y2|     242671524|Opolar Laptop Cooler|              PC|          3|           35|         45|   N|                Y|Fan does good job...|The fan itself wo...| 2015-08-31|\n",
            "|         US|   43049754|R38OLNY5GR1PW6|B00X2JQ8K2|     954779825|TAB A case, Samsu...|              PC|          5|           44|         44|   N|                Y|Stylish Case for ...|Love, Love, Love ...| 2015-08-31|\n",
            "|         US|   50454721|R2GK7RJNIAREIT|B008P54T1I|     857605204|Apple 45W MagSafe...|              PC|          1|           30|         32|   N|                Y|        Don't buy it|This power adapte...| 2015-08-31|\n",
            "|         US|   36507132|R2OWRP6FXXECMK|B00R45V3SW|     274617078|Seagate Backup Pl...|              PC|          1|           42|         44|   N|                Y|Bought 2 new driv...|[UPDATED Jan 21, ...| 2015-08-31|\n",
            "|         US|   42740308| ROR2FE6Y8EZYG|B00R92CEVU|     678269222|NETGEAR CM500 (16...|              PC|          5|           19|         22|   N|                Y|Lightning fast --...|Lightning fast --...| 2015-08-31|\n",
            "|         US|   28275625|R1UWNRDWUZR68D|B004D3QOPA|     504400007|Gigabit 1000BT De...|              PC|          3|           60|         60|   N|                Y|Good for a couple...|Ok.. I purchased ...| 2015-08-31|\n",
            "|         US|    7599429| RIJYX8PG45XOB|B00WHYSHF2|     768120866| Poin2 Chromebook 11|              PC|          5|           51|         52|   N|                Y|it brings really ...|My husband is a t...| 2015-08-31|\n",
            "|         US|   25506832|R24PUIWP0XB411|B013NH0IEE|     476320409|SZAC Micro SD Car...|              PC|          1|           27|         27|   N|                Y|Good luck getting...|Don't be fooled w...| 2015-08-31|\n",
            "|         US|   20457564| RBYFK3W84LW9F|B010SBAJDS|     904532960|Toshiba Satellite...|              PC|          2|           32|         37|   N|                Y|Not impressed. Di...|I purchased 4 of ...| 2015-08-31|\n",
            "|         US|   35314326| RT880ROJ1I4Z5|B00JFCD2R2|     158990248|HP 753960-B21 NVI...|              PC|          5|           22|         31|   N|                N|Rendering your wo...|Best graphics car...| 2015-08-31|\n",
            "|         US|   21407360|R2ICLUNZ6A5DXB|B00DVISMCG|     392617397|Crucial Ballistix...|              PC|          1|           16|         23|   N|                Y|Timing was differ...|Product descripti...| 2015-08-31|\n",
            "|         US|   47301751|R3H11HIP4SCL9V|B00UTV8OEE|     423270920|ASUS Transformer ...|              PC|          5|           31|         33|   N|                Y|This is a good cr...|This is a good cr...| 2015-08-31|\n",
            "|         US|   47378845| RPG85MPSR10JG|B00MA5U1FW|     908032034|ARRIS SURFboard D...|              PC|          1|           23|         26|   N|                Y|the service was w...|Apparently I know...| 2015-08-31|\n",
            "|         US|   42477503|R2UAVRDG3AUF3K|B013ALA9LA|     671157305|TP-Link OnHub AC1...|              PC|          5|           14|         21|   N|                N|OnHub delivers on...|Clean design. Fee...| 2015-08-31|\n",
            "|         US|   18283551|R2CEZU1K5CVLRL|B007GMPZ0A|      95631789|TP-LINK N900 2.4G...|              PC|          1|           17|         22|   N|                Y|This product does...|The short version...| 2015-08-31|\n",
            "+-----------+-----------+--------------+----------+--------------+--------------------+----------------+-----------+-------------+-----------+----+-----------------+--------------------+--------------------+-----------+\n",
            "only showing top 20 rows\n",
            "\n"
          ],
          "name": "stdout"
        }
      ]
    },
    {
      "cell_type": "code",
      "metadata": {
        "id": "wBIGUgfyrgCr"
      },
      "source": [
        "#filter the dataset for total_votes being greater than or equal to 20\n",
        "vine_df = df.select([\"review_id\",\"star_rating\",\"helpful_votes\",\"total_votes\",\"vine\",\"verified_purchase\"])\n",
        "vote_count = df.filter(\"total_votes >= 20\")"
      ],
      "execution_count": 5,
      "outputs": []
    },
    {
      "cell_type": "code",
      "metadata": {
        "colab": {
          "base_uri": "https://localhost:8080/"
        },
        "id": "i51W1IWRsE16",
        "outputId": "9a293bc6-bf9d-4746-9b0c-49050df15b1c"
      },
      "source": [
        "#create a new DataFrame or table to retrieve all the rows where the number of helpful_votes divided by total_votes is equal to or greater than 50%.\n",
        "new_table = vote_count.filter(vote_count[\"helpful_votes\"]/vote_count[\"total_votes\"]>=0.5)\n",
        "new_table.show()"
      ],
      "execution_count": 6,
      "outputs": [
        {
          "output_type": "stream",
          "text": [
            "+-----------+-----------+--------------+----------+--------------+--------------------+----------------+-----------+-------------+-----------+----+-----------------+--------------------+--------------------+-----------+\n",
            "|marketplace|customer_id|     review_id|product_id|product_parent|       product_title|product_category|star_rating|helpful_votes|total_votes|vine|verified_purchase|     review_headline|         review_body|review_date|\n",
            "+-----------+-----------+--------------+----------+--------------+--------------------+----------------+-----------+-------------+-----------+----+-----------------+--------------------+--------------------+-----------+\n",
            "|         US|    7142190| R4PKAZRQJJX14|B00QZLVCU0|     210935604|Valve - DOTA 2 St...|     Video Games|          1|           21|         34|   N|                N|What store doesn'...|Who pays 4 dollar...| 2015-08-31|\n",
            "|         US|    1085641|R2CI0Y288CC7E2|B00RHI62GY|     626589765|ONE PIECE Pirate ...|     Video Games|          1|           21|         35|   N|                Y|i request change ...|Yesterday i recei...| 2015-08-31|\n",
            "|         US|   34170274|R127WEQY2FM1T3|B00W435BU0|     487294121|       Madden NFL 16|     Video Games|          1|          147|        175|   N|                Y|Hot Mess. Don't Buy.|This is an absolu...| 2015-08-31|\n",
            "|         US|   37932477|R2FJ94555FZH32|B00WJ0Z194|     116945357|Infinity 3.0 Star...|     Video Games|          2|           55|         60|   N|                N|Some improvements...|While Infinity 3....| 2015-08-31|\n",
            "|         US|   45782027|R1U3AR67RE273L|B00W435C0Y|     406569386|       Madden NFL 16|     Video Games|          1|           51|         65|   N|                Y|CAN'T PLAY - NO E...|I've owned a vers...| 2015-08-31|\n",
            "|         US|   26953574|R3PZOXA5X1U8KW|B00WJ0Z10S|     418299376|Infinity 3.0 Star...|     Video Games|          4|           31|         36|   N|                N|A Really Great Game!|I have never play...| 2015-08-31|\n",
            "|         US|   38235948| R6KTC1OPIOIIG|B0118GJKIW|     120888661|Xbox One 500GB Co...|     Video Games|          2|           19|         34|   N|                Y| What an experience!|When I open a pro...| 2015-08-30|\n",
            "|         US|   52553659|R36O341WWXXKNP|B00ZSJU97C|     838780144|Disney Infinity 3...|     Video Games|          5|           28|         31|   N|                N|Upgrade to Disney...|We have been play...| 2015-08-30|\n",
            "|         US|   38235948|R10LZVBLQHBVJ0|B00KAI3KW2|     289195641|Microsoft Xbox On...|     Video Games|          2|          151|        198|   N|                N| What an experience!|When I open a pro...| 2015-08-30|\n",
            "|         US|   18680918|R1VR5GLGY1GE7N|B00VE2VASY|     908454240|SmaAcc Cooling Fa...|     Video Games|          1|           49|         51|   N|                Y|If you wanted a c...|Very weak fan. Sy...| 2015-08-30|\n",
            "|         US|    3407493|R2OWDAR0EDEPTF|B00W435BU0|     487294121|       Madden NFL 16|     Video Games|          1|           23|         28|   N|                N|Same game differe...|Sick of each mono...| 2015-08-29|\n",
            "|         US|   14073759|R29BOS5HMAY1LO|B00W435BL4|     281495895|Madden NFL 16 - P...|     Video Games|          5|           88|        110|   N|                N|The wife will nev...|This game is grea...| 2015-08-29|\n",
            "|         US|   52542000| R8WD0136CETA7|B00W435BU0|     487294121|       Madden NFL 16|     Video Games|          2|           99|        119|   N|                N|Same Madden as la...|The same thing pl...| 2015-08-29|\n",
            "|         US|   49781693|R16621F16PQN5A|B00W435C0Y|     406569386|       Madden NFL 16|     Video Games|          3|           24|         31|   N|                Y|The Almost, Almos...|Let me first say ...| 2015-08-29|\n",
            "|         US|   30943085|R1LXBPG1M9DDOC|B0138CZY9S|     154182641|     Google Play $10|     Video Games|          1|          102|        106|   N|                N|    Not a chance bro|This is just a st...| 2015-08-29|\n",
            "|         US|   48181118| RNEMGSUKJ4535|B00W435BU0|     487294121|       Madden NFL 16|     Video Games|          2|           21|         25|   N|                Y|  Bring Back NFL 2K!|Not happy with th...| 2015-08-29|\n",
            "|         US|   19648728|R3R2UKBFKP1IQ4|B00W435BU0|     487294121|       Madden NFL 16|     Video Games|          1|           19|         23|   N|                Y|         Still Buggy|Freezes after eve...| 2015-08-28|\n",
            "|         US|   10138904|R2T90XM5G2DBZA|B00W435BU0|     487294121|       Madden NFL 16|     Video Games|          3|           15|         22|   N|                Y|Built for lowest ...|This game feels l...| 2015-08-28|\n",
            "|         US|   18106383| R5ZMK0Y0KRBRZ|B00W435CPY|     889404124|       Madden NFL 16|     Video Games|          1|           79|         91|   N|                N|Should not be $60!!!|Same as last year...| 2015-08-28|\n",
            "|         US|   16969949|R12E2W0XOV3I2S|B00W435BL4|     281495895|Madden NFL 16 - P...|     Video Games|          1|           24|         30|   N|                Y|Misleading \"New\" ...|Finally arrived a...| 2015-08-28|\n",
            "+-----------+-----------+--------------+----------+--------------+--------------------+----------------+-----------+-------------+-----------+----+-----------------+--------------------+--------------------+-----------+\n",
            "only showing top 20 rows\n",
            "\n"
          ],
          "name": "stdout"
        }
      ]
    },
    {
      "cell_type": "code",
      "metadata": {
        "colab": {
          "base_uri": "https://localhost:8080/"
        },
        "id": "HSIWdS9zsJfx",
        "outputId": "acf78d23-8eb7-4eaa-d45a-612de12f74f7"
      },
      "source": [
        "#reate a new DataFrame or table that retrieves all the rows where a review was written as part of the Vine program (paid), vine == 'Y'\n",
        "new_table.filter(new_table[\"vine\"] == \"Y\").show()"
      ],
      "execution_count": 7,
      "outputs": [
        {
          "output_type": "stream",
          "text": [
            "+-----------+-----------+--------------+----------+--------------+--------------------+----------------+-----------+-------------+-----------+----+-----------------+--------------------+--------------------+-----------+\n",
            "|marketplace|customer_id|     review_id|product_id|product_parent|       product_title|product_category|star_rating|helpful_votes|total_votes|vine|verified_purchase|     review_headline|         review_body|review_date|\n",
            "+-----------+-----------+--------------+----------+--------------+--------------------+----------------+-----------+-------------+-----------+----+-----------------+--------------------+--------------------+-----------+\n",
            "|         US|   48771843|R3KKUSGFZWSUIY|B00YXO5UXG|     555176890|Turtle Beach - Ea...|     Video Games|          5|           56|         63|   Y|                N|Quality Chat Headset|Not every situati...| 2015-08-04|\n",
            "|         US|   53080186|R10FO5UKKVZBK2|B00XO041RQ|     238654494|PDP AG7 True Wire...|     Video Games|          3|           23|         23|   Y|                N|Great sounding he...|[[VIDEOID:a9ebb8e...| 2015-08-03|\n",
            "|         US|   29202184| RM4KSGEOR7MU1|B00YXO5X4M|     832423177|Turtle Beach - Ea...|     Video Games|          5|           19|         24|   Y|                N|Definitely Worth ...|[[VIDEOID:5a58574...| 2015-07-03|\n",
            "|         US|   42836457| RG7VRMYLEXD23|B00P45U43O|     231578141|Antec X-1 Cooler ...|     Video Games|          4|           22|         26|   Y|                N|A whisper quiet c...|The Antec X-1 Coo...| 2015-04-16|\n",
            "|         US|   24021862|R11O4YSCPSNL6L|B00MNPDMEQ|     925909080|Turtle Beach - Ea...|     Video Games|          3|           20|         26|   Y|                N|A high-end gaming...|As a DJ and avid ...| 2015-02-19|\n",
            "|         US|   52846213|R286MFBAJ8NPD6|B00Q5JD2DM|      11681279|Turtle Beach Ear ...|     Video Games|          5|           46|         51|   Y|                N|Sound the Way it ...|My son has been g...| 2014-12-31|\n",
            "|         US|   51369093|R1JRR530H4COA2|B00O9GVKZU|     330572424|Turtle Beach - Ea...|     Video Games|          5|           22|         28|   Y|                N|I really like the...|I really like thi...| 2014-12-16|\n",
            "|         US|   49681391| RQ5WD90PUNBU9|B00Q5JD2DM|      11681279|Turtle Beach Ear ...|     Video Games|          5|           21|         24|   Y|                N|So Vividly Clear ...|This Turtle Beach...| 2014-12-15|\n",
            "|         US|   40649038|R12648VHCQWUV9|B00Q5JD2DM|      11681279|Turtle Beach Ear ...|     Video Games|          4|           21|         28|   Y|                N|Wireless capabili...|This is a very pr...| 2014-12-09|\n",
            "|         US|   51744990|R3KAW29CJ8L6DQ|B00EDNLO32|     308920528|Turtle Beach - i3...|     Video Games|          5|           17|         20|   Y|                N|            Awesome!|These over the ea...| 2014-12-05|\n",
            "|         US|   33354780|R1OWK33OPI45KT|B00NHV0XV0|     930864747|Turtle Beach Ear ...|     Video Games|          5|           55|         58|   Y|                N|Perfect for late ...|PROS:<br /><br />...| 2014-11-09|\n",
            "|         US|   12206087|R2UP7VTED8O425|B00LSBNSJA|     221875832|PDP Wired Fight P...|     Video Games|          5|           35|         41|   Y|                N|This is the Gamec...|I love how Ninten...| 2014-11-08|\n",
            "|         US|   42247018|R3N4QAXTQCA1ED|B00KVQQJBW|     298562340|Turtle Beach - Ea...|     Video Games|          5|           18|         20|   Y|                N|Another In Turtle...|Both my son and I...| 2014-10-17|\n",
            "|         US|   16449486|R3EPHK0JGQGE91|B00NHV0XV0|     930864747|Turtle Beach Ear ...|     Video Games|          5|           21|         28|   Y|                N|      Gaming headset|When I ordered th...| 2014-10-08|\n",
            "|         US|   52689144| RCP3KRO47S0GG|B00KWHOXGI|     493304060|Disney INFINITY 2...|     Video Games|          4|           51|         58|   Y|                N|Fun for youngster...|Older players be ...| 2014-10-05|\n",
            "|         US|   11393110|R3JT907UUA1WUI|B00KSVXSZU|     523326094|Turtle Beach - Ea...|     Video Games|          4|           85|        103|   Y|                N|   Bass is excellent|I own a couple pa...| 2014-10-01|\n",
            "|         US|   49653593| RY0555ILXIYXW|B00KSQAACO|     927248163|Turtle Beach - Ea...|     Video Games|          5|           38|         50|   Y|                N|Excellent sound a...|Turtle Beach has ...| 2014-10-01|\n",
            "|         US|   49129501|R24PS9N276OXF4|B00KSQAACO|     927248163|Turtle Beach - Ea...|     Video Games|          5|          241|        262|   Y|                N|Works Great on th...|[[VIDEOID:mo2CKF0...| 2014-09-28|\n",
            "|         US|   51865210|R3R0F8ETAGTIOT|B00KSVXSZU|     523326094|Turtle Beach - Ea...|     Video Games|          5|           14|         20|   Y|                N|Great headset for...|This is an over t...| 2014-09-23|\n",
            "|         US|   52818244| ROXZOMHBY8Y9S|B00HS5GS38|     467482132|Turtle Beach - Ea...|     Video Games|          4|           21|         23|   Y|                N|Dude, Take the shot!|The Turtle Beach ...| 2014-09-13|\n",
            "+-----------+-----------+--------------+----------+--------------+--------------------+----------------+-----------+-------------+-----------+----+-----------------+--------------------+--------------------+-----------+\n",
            "only showing top 20 rows\n",
            "\n"
          ],
          "name": "stdout"
        }
      ]
    },
    {
      "cell_type": "code",
      "metadata": {
        "colab": {
          "base_uri": "https://localhost:8080/"
        },
        "id": "o2S0Yr9lsNxx",
        "outputId": "b0ae164c-6c23-4a13-cac9-e1bb13530c40"
      },
      "source": [
        "#Create a new DataFrame or table that retrieves all the rows where a review was written as part of the Vine program (paid), vine == 'N'\n",
        "new_table.filter(new_table[\"vine\"] == \"N\").show()"
      ],
      "execution_count": 8,
      "outputs": [
        {
          "output_type": "stream",
          "text": [
            "+-----------+-----------+--------------+----------+--------------+--------------------+----------------+-----------+-------------+-----------+----+-----------------+--------------------+--------------------+-----------+\n",
            "|marketplace|customer_id|     review_id|product_id|product_parent|       product_title|product_category|star_rating|helpful_votes|total_votes|vine|verified_purchase|     review_headline|         review_body|review_date|\n",
            "+-----------+-----------+--------------+----------+--------------+--------------------+----------------+-----------+-------------+-----------+----+-----------------+--------------------+--------------------+-----------+\n",
            "|         US|    7142190| R4PKAZRQJJX14|B00QZLVCU0|     210935604|Valve - DOTA 2 St...|     Video Games|          1|           21|         34|   N|                N|What store doesn'...|Who pays 4 dollar...| 2015-08-31|\n",
            "|         US|    1085641|R2CI0Y288CC7E2|B00RHI62GY|     626589765|ONE PIECE Pirate ...|     Video Games|          1|           21|         35|   N|                Y|i request change ...|Yesterday i recei...| 2015-08-31|\n",
            "|         US|   34170274|R127WEQY2FM1T3|B00W435BU0|     487294121|       Madden NFL 16|     Video Games|          1|          147|        175|   N|                Y|Hot Mess. Don't Buy.|This is an absolu...| 2015-08-31|\n",
            "|         US|   37932477|R2FJ94555FZH32|B00WJ0Z194|     116945357|Infinity 3.0 Star...|     Video Games|          2|           55|         60|   N|                N|Some improvements...|While Infinity 3....| 2015-08-31|\n",
            "|         US|   45782027|R1U3AR67RE273L|B00W435C0Y|     406569386|       Madden NFL 16|     Video Games|          1|           51|         65|   N|                Y|CAN'T PLAY - NO E...|I've owned a vers...| 2015-08-31|\n",
            "|         US|   26953574|R3PZOXA5X1U8KW|B00WJ0Z10S|     418299376|Infinity 3.0 Star...|     Video Games|          4|           31|         36|   N|                N|A Really Great Game!|I have never play...| 2015-08-31|\n",
            "|         US|   38235948| R6KTC1OPIOIIG|B0118GJKIW|     120888661|Xbox One 500GB Co...|     Video Games|          2|           19|         34|   N|                Y| What an experience!|When I open a pro...| 2015-08-30|\n",
            "|         US|   52553659|R36O341WWXXKNP|B00ZSJU97C|     838780144|Disney Infinity 3...|     Video Games|          5|           28|         31|   N|                N|Upgrade to Disney...|We have been play...| 2015-08-30|\n",
            "|         US|   38235948|R10LZVBLQHBVJ0|B00KAI3KW2|     289195641|Microsoft Xbox On...|     Video Games|          2|          151|        198|   N|                N| What an experience!|When I open a pro...| 2015-08-30|\n",
            "|         US|   18680918|R1VR5GLGY1GE7N|B00VE2VASY|     908454240|SmaAcc Cooling Fa...|     Video Games|          1|           49|         51|   N|                Y|If you wanted a c...|Very weak fan. Sy...| 2015-08-30|\n",
            "|         US|    3407493|R2OWDAR0EDEPTF|B00W435BU0|     487294121|       Madden NFL 16|     Video Games|          1|           23|         28|   N|                N|Same game differe...|Sick of each mono...| 2015-08-29|\n",
            "|         US|   14073759|R29BOS5HMAY1LO|B00W435BL4|     281495895|Madden NFL 16 - P...|     Video Games|          5|           88|        110|   N|                N|The wife will nev...|This game is grea...| 2015-08-29|\n",
            "|         US|   52542000| R8WD0136CETA7|B00W435BU0|     487294121|       Madden NFL 16|     Video Games|          2|           99|        119|   N|                N|Same Madden as la...|The same thing pl...| 2015-08-29|\n",
            "|         US|   49781693|R16621F16PQN5A|B00W435C0Y|     406569386|       Madden NFL 16|     Video Games|          3|           24|         31|   N|                Y|The Almost, Almos...|Let me first say ...| 2015-08-29|\n",
            "|         US|   30943085|R1LXBPG1M9DDOC|B0138CZY9S|     154182641|     Google Play $10|     Video Games|          1|          102|        106|   N|                N|    Not a chance bro|This is just a st...| 2015-08-29|\n",
            "|         US|   48181118| RNEMGSUKJ4535|B00W435BU0|     487294121|       Madden NFL 16|     Video Games|          2|           21|         25|   N|                Y|  Bring Back NFL 2K!|Not happy with th...| 2015-08-29|\n",
            "|         US|   19648728|R3R2UKBFKP1IQ4|B00W435BU0|     487294121|       Madden NFL 16|     Video Games|          1|           19|         23|   N|                Y|         Still Buggy|Freezes after eve...| 2015-08-28|\n",
            "|         US|   10138904|R2T90XM5G2DBZA|B00W435BU0|     487294121|       Madden NFL 16|     Video Games|          3|           15|         22|   N|                Y|Built for lowest ...|This game feels l...| 2015-08-28|\n",
            "|         US|   18106383| R5ZMK0Y0KRBRZ|B00W435CPY|     889404124|       Madden NFL 16|     Video Games|          1|           79|         91|   N|                N|Should not be $60!!!|Same as last year...| 2015-08-28|\n",
            "|         US|   16969949|R12E2W0XOV3I2S|B00W435BL4|     281495895|Madden NFL 16 - P...|     Video Games|          1|           24|         30|   N|                Y|Misleading \"New\" ...|Finally arrived a...| 2015-08-28|\n",
            "+-----------+-----------+--------------+----------+--------------+--------------------+----------------+-----------+-------------+-----------+----+-----------------+--------------------+--------------------+-----------+\n",
            "only showing top 20 rows\n",
            "\n"
          ],
          "name": "stdout"
        }
      ]
    },
    {
      "cell_type": "code",
      "metadata": {
        "colab": {
          "base_uri": "https://localhost:8080/"
        },
        "id": "_DcgRw5TsWSZ",
        "outputId": "268b8198-6931-4099-cbb7-4e7546764537"
      },
      "source": [
        "# number of five star reviews\n",
        "five_star = new_table.filter(new_table[\"star_rating\"]== 5)\n",
        "five_star.cache()"
      ],
      "execution_count": 9,
      "outputs": [
        {
          "output_type": "execute_result",
          "data": {
            "text/plain": [
              "DataFrame[marketplace: string, customer_id: int, review_id: string, product_id: string, product_parent: int, product_title: string, product_category: string, star_rating: int, helpful_votes: int, total_votes: int, vine: string, verified_purchase: string, review_headline: string, review_body: string, review_date: string]"
            ]
          },
          "metadata": {
            "tags": []
          },
          "execution_count": 9
        }
      ]
    },
    {
      "cell_type": "code",
      "metadata": {
        "colab": {
          "base_uri": "https://localhost:8080/"
        },
        "id": "SZmDzKZfsaeB",
        "outputId": "3b641437-c85a-4c19-ea65-788aca482aaf"
      },
      "source": [
        "five_star.count()"
      ],
      "execution_count": 10,
      "outputs": [
        {
          "output_type": "execute_result",
          "data": {
            "text/plain": [
              "15711"
            ]
          },
          "metadata": {
            "tags": []
          },
          "execution_count": 10
        }
      ]
    },
    {
      "cell_type": "code",
      "metadata": {
        "colab": {
          "base_uri": "https://localhost:8080/"
        },
        "id": "K4Yo9td76AjQ",
        "outputId": "4c91136e-1514-430e-9c2c-711b418d905a"
      },
      "source": [
        "five_star.filter(five_star['Vine']== \"N\").count()"
      ],
      "execution_count": 16,
      "outputs": [
        {
          "output_type": "execute_result",
          "data": {
            "text/plain": [
              "15663"
            ]
          },
          "metadata": {
            "tags": []
          },
          "execution_count": 16
        }
      ]
    },
    {
      "cell_type": "code",
      "metadata": {
        "colab": {
          "base_uri": "https://localhost:8080/"
        },
        "id": "_YCe4rdiskI5",
        "outputId": "2b438fd4-c946-4baf-b3fc-3b949908b9ea"
      },
      "source": [
        "#total reviews\n",
        "new_table.count()"
      ],
      "execution_count": 11,
      "outputs": [
        {
          "output_type": "execute_result",
          "data": {
            "text/plain": [
              "40565"
            ]
          },
          "metadata": {
            "tags": []
          },
          "execution_count": 11
        }
      ]
    },
    {
      "cell_type": "code",
      "metadata": {
        "colab": {
          "base_uri": "https://localhost:8080/"
        },
        "id": "iR8JZZSmsnsT",
        "outputId": "905f7e1e-c67a-4e3e-da62-7b3b45d7e033"
      },
      "source": [
        "#percentage of five star reviews\n",
        "five_star.count() / new_table.count()"
      ],
      "execution_count": 12,
      "outputs": [
        {
          "output_type": "execute_result",
          "data": {
            "text/plain": [
              "0.3873043263897449"
            ]
          },
          "metadata": {
            "tags": []
          },
          "execution_count": 12
        }
      ]
    },
    {
      "cell_type": "code",
      "metadata": {
        "colab": {
          "base_uri": "https://localhost:8080/"
        },
        "id": "lNMyQMdEss8B",
        "outputId": "2bf94d70-d97a-4ecc-99c8-78afdc244339"
      },
      "source": [
        "#percentage of paid reviews\n",
        "five_star.filter(five_star[\"verified_purchase\"] == \"Y\").count()/new_table.filter(new_table[\"verified_purchase\"]== \"Y\").count()"
      ],
      "execution_count": 13,
      "outputs": [
        {
          "output_type": "execute_result",
          "data": {
            "text/plain": [
              "0.38214921828616666"
            ]
          },
          "metadata": {
            "tags": []
          },
          "execution_count": 13
        }
      ]
    },
    {
      "cell_type": "code",
      "metadata": {
        "colab": {
          "base_uri": "https://localhost:8080/"
        },
        "id": "oWptv-kzsxiC",
        "outputId": "c13ae26a-f1d1-4c96-8414-e2f5a3024f31"
      },
      "source": [
        "#percentage of unpaid reviews\n",
        "five_star.filter(five_star[\"verified_purchase\"] == \"N\").count()/new_table.filter(new_table[\"verified_purchase\"]== \"N\").count()"
      ],
      "execution_count": 14,
      "outputs": [
        {
          "output_type": "execute_result",
          "data": {
            "text/plain": [
              "0.3890147411274172"
            ]
          },
          "metadata": {
            "tags": []
          },
          "execution_count": 14
        }
      ]
    }
  ]
}